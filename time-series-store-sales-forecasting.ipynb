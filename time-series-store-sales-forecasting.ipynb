{
 "cells": [
  {
   "cell_type": "markdown",
   "id": "ee27e7ea",
   "metadata": {
    "_cell_guid": "b1076dfc-b9ad-4769-8c92-a6c4dae69d19",
    "_uuid": "8f2839f25d086af736a60e9eeb907d3b93b6e0e5",
    "execution": {
     "iopub.execute_input": "2022-09-25T14:02:04.248299Z",
     "iopub.status.busy": "2022-09-25T14:02:04.247043Z",
     "iopub.status.idle": "2022-09-25T14:02:04.276038Z",
     "shell.execute_reply": "2022-09-25T14:02:04.274479Z",
     "shell.execute_reply.started": "2022-09-25T14:02:04.248171Z"
    },
    "papermill": {
     "duration": 0.004939,
     "end_time": "2022-09-25T15:22:12.180154",
     "exception": false,
     "start_time": "2022-09-25T15:22:12.175215",
     "status": "completed"
    },
    "tags": []
   },
   "source": [
    "<div>\n",
    "    <a id=\"mainmenu\"></a>\n",
    "</div>\n",
    "\n",
    "# Store Sales - Time Series Forecasting\n",
    "Author: Dorivan Kadatz Borba<br/>\n",
    "Coding: utf-8\n",
    "\n",
    "### We need to forecast grocery sales, using time-series store sales data from Corporación Favorita, a large Ecuadorian-based grocery retailer.\n",
    "\n",
    "### Contents\n",
    "- [01. Importing necessary libraries](#import)\n",
    "- [02. Importing data](#importingdata)"
   ]
  },
  {
   "cell_type": "markdown",
   "id": "75ceab54",
   "metadata": {
    "papermill": {
     "duration": 0.00268,
     "end_time": "2022-09-25T15:22:12.186542",
     "exception": false,
     "start_time": "2022-09-25T15:22:12.183862",
     "status": "completed"
    },
    "tags": []
   },
   "source": [
    "# 1) Importing necessary libraries\n",
    "- [Back to the contents](#mainmenu)\n",
    "<div>\n",
    "    <a id=\"import\"></a>\n",
    "</div>"
   ]
  },
  {
   "cell_type": "code",
   "execution_count": 1,
   "id": "a56486b0",
   "metadata": {
    "execution": {
     "iopub.execute_input": "2022-09-25T15:22:12.194993Z",
     "iopub.status.busy": "2022-09-25T15:22:12.194001Z",
     "iopub.status.idle": "2022-09-25T15:22:12.206625Z",
     "shell.execute_reply": "2022-09-25T15:22:12.205836Z"
    },
    "papermill": {
     "duration": 0.019672,
     "end_time": "2022-09-25T15:22:12.209034",
     "exception": false,
     "start_time": "2022-09-25T15:22:12.189362",
     "status": "completed"
    },
    "tags": []
   },
   "outputs": [],
   "source": [
    "import pandas as pd\n",
    "import numpy as np\n",
    "import os"
   ]
  },
  {
   "cell_type": "markdown",
   "id": "32615a56",
   "metadata": {
    "execution": {
     "iopub.execute_input": "2022-09-25T14:37:26.355545Z",
     "iopub.status.busy": "2022-09-25T14:37:26.355153Z",
     "iopub.status.idle": "2022-09-25T14:37:26.362492Z",
     "shell.execute_reply": "2022-09-25T14:37:26.360996Z",
     "shell.execute_reply.started": "2022-09-25T14:37:26.355513Z"
    },
    "papermill": {
     "duration": 0.00231,
     "end_time": "2022-09-25T15:22:12.214077",
     "exception": false,
     "start_time": "2022-09-25T15:22:12.211767",
     "status": "completed"
    },
    "tags": []
   },
   "source": [
    "<div>\n",
    "    <a id=\"importingdata\"></a>\n",
    "</div>\n",
    "\n",
    "# 1) Importing data\n",
    "- [Back to the contents](#mainmenu)"
   ]
  },
  {
   "cell_type": "code",
   "execution_count": 2,
   "id": "86a9d8f5",
   "metadata": {
    "execution": {
     "iopub.execute_input": "2022-09-25T15:22:12.220720Z",
     "iopub.status.busy": "2022-09-25T15:22:12.220281Z",
     "iopub.status.idle": "2022-09-25T15:22:12.227472Z",
     "shell.execute_reply": "2022-09-25T15:22:12.226418Z"
    },
    "papermill": {
     "duration": 0.013626,
     "end_time": "2022-09-25T15:22:12.230312",
     "exception": false,
     "start_time": "2022-09-25T15:22:12.216686",
     "status": "completed"
    },
    "tags": []
   },
   "outputs": [
    {
     "name": "stdout",
     "output_type": "stream",
     "text": [
      "/kaggle/input/store-sales-time-series-forecasting/oil.csv\n",
      "/kaggle/input/store-sales-time-series-forecasting/sample_submission.csv\n",
      "/kaggle/input/store-sales-time-series-forecasting/holidays_events.csv\n",
      "/kaggle/input/store-sales-time-series-forecasting/stores.csv\n",
      "/kaggle/input/store-sales-time-series-forecasting/train.csv\n",
      "/kaggle/input/store-sales-time-series-forecasting/test.csv\n",
      "/kaggle/input/store-sales-time-series-forecasting/transactions.csv\n"
     ]
    }
   ],
   "source": [
    "# Data file path\n",
    "for dirname, _, filenames in os.walk('/kaggle/input'):\n",
    "    for filename in filenames:\n",
    "        print(os.path.join(dirname, filename))"
   ]
  },
  {
   "cell_type": "code",
   "execution_count": 3,
   "id": "bc99e256",
   "metadata": {
    "execution": {
     "iopub.execute_input": "2022-09-25T15:22:12.238027Z",
     "iopub.status.busy": "2022-09-25T15:22:12.237061Z",
     "iopub.status.idle": "2022-09-25T15:22:15.705388Z",
     "shell.execute_reply": "2022-09-25T15:22:15.704335Z"
    },
    "papermill": {
     "duration": 3.474739,
     "end_time": "2022-09-25T15:22:15.707995",
     "exception": false,
     "start_time": "2022-09-25T15:22:12.233256",
     "status": "completed"
    },
    "tags": []
   },
   "outputs": [],
   "source": [
    "# Reading data\n",
    "df_stores=pd.read_csv('../input/store-sales-time-series-forecasting/stores.csv')\n",
    "df_holiday=pd.read_csv('../input/store-sales-time-series-forecasting/holidays_events.csv')\n",
    "df_train=pd.read_csv('../input/store-sales-time-series-forecasting/train.csv')\n",
    "df_test=pd.read_csv('../input/store-sales-time-series-forecasting/test.csv')\n",
    "df_oil=pd.read_csv('../input/store-sales-time-series-forecasting/oil.csv')"
   ]
  },
  {
   "cell_type": "code",
   "execution_count": 4,
   "id": "35c110a7",
   "metadata": {
    "execution": {
     "iopub.execute_input": "2022-09-25T15:22:15.715270Z",
     "iopub.status.busy": "2022-09-25T15:22:15.714892Z",
     "iopub.status.idle": "2022-09-25T15:22:15.738632Z",
     "shell.execute_reply": "2022-09-25T15:22:15.737600Z"
    },
    "papermill": {
     "duration": 0.029827,
     "end_time": "2022-09-25T15:22:15.740763",
     "exception": false,
     "start_time": "2022-09-25T15:22:15.710936",
     "status": "completed"
    },
    "tags": []
   },
   "outputs": [
    {
     "data": {
      "text/html": [
       "<div>\n",
       "<style scoped>\n",
       "    .dataframe tbody tr th:only-of-type {\n",
       "        vertical-align: middle;\n",
       "    }\n",
       "\n",
       "    .dataframe tbody tr th {\n",
       "        vertical-align: top;\n",
       "    }\n",
       "\n",
       "    .dataframe thead th {\n",
       "        text-align: right;\n",
       "    }\n",
       "</style>\n",
       "<table border=\"1\" class=\"dataframe\">\n",
       "  <thead>\n",
       "    <tr style=\"text-align: right;\">\n",
       "      <th></th>\n",
       "      <th>store_nbr</th>\n",
       "      <th>city</th>\n",
       "      <th>state</th>\n",
       "      <th>type</th>\n",
       "      <th>cluster</th>\n",
       "    </tr>\n",
       "  </thead>\n",
       "  <tbody>\n",
       "    <tr>\n",
       "      <th>0</th>\n",
       "      <td>1</td>\n",
       "      <td>Quito</td>\n",
       "      <td>Pichincha</td>\n",
       "      <td>D</td>\n",
       "      <td>13</td>\n",
       "    </tr>\n",
       "    <tr>\n",
       "      <th>1</th>\n",
       "      <td>2</td>\n",
       "      <td>Quito</td>\n",
       "      <td>Pichincha</td>\n",
       "      <td>D</td>\n",
       "      <td>13</td>\n",
       "    </tr>\n",
       "    <tr>\n",
       "      <th>2</th>\n",
       "      <td>3</td>\n",
       "      <td>Quito</td>\n",
       "      <td>Pichincha</td>\n",
       "      <td>D</td>\n",
       "      <td>8</td>\n",
       "    </tr>\n",
       "    <tr>\n",
       "      <th>3</th>\n",
       "      <td>4</td>\n",
       "      <td>Quito</td>\n",
       "      <td>Pichincha</td>\n",
       "      <td>D</td>\n",
       "      <td>9</td>\n",
       "    </tr>\n",
       "    <tr>\n",
       "      <th>4</th>\n",
       "      <td>5</td>\n",
       "      <td>Santo Domingo</td>\n",
       "      <td>Santo Domingo de los Tsachilas</td>\n",
       "      <td>D</td>\n",
       "      <td>4</td>\n",
       "    </tr>\n",
       "  </tbody>\n",
       "</table>\n",
       "</div>"
      ],
      "text/plain": [
       "   store_nbr           city                           state type  cluster\n",
       "0          1          Quito                       Pichincha    D       13\n",
       "1          2          Quito                       Pichincha    D       13\n",
       "2          3          Quito                       Pichincha    D        8\n",
       "3          4          Quito                       Pichincha    D        9\n",
       "4          5  Santo Domingo  Santo Domingo de los Tsachilas    D        4"
      ]
     },
     "execution_count": 4,
     "metadata": {},
     "output_type": "execute_result"
    }
   ],
   "source": [
    "df_stores.head()"
   ]
  },
  {
   "cell_type": "code",
   "execution_count": 5,
   "id": "6129cb48",
   "metadata": {
    "execution": {
     "iopub.execute_input": "2022-09-25T15:22:15.748484Z",
     "iopub.status.busy": "2022-09-25T15:22:15.748123Z",
     "iopub.status.idle": "2022-09-25T15:22:15.752563Z",
     "shell.execute_reply": "2022-09-25T15:22:15.751489Z"
    },
    "papermill": {
     "duration": 0.010835,
     "end_time": "2022-09-25T15:22:15.754828",
     "exception": false,
     "start_time": "2022-09-25T15:22:15.743993",
     "status": "completed"
    },
    "tags": []
   },
   "outputs": [],
   "source": [
    "#Continue..."
   ]
  }
 ],
 "metadata": {
  "kernelspec": {
   "display_name": "Python 3",
   "language": "python",
   "name": "python3"
  },
  "language_info": {
   "codemirror_mode": {
    "name": "ipython",
    "version": 3
   },
   "file_extension": ".py",
   "mimetype": "text/x-python",
   "name": "python",
   "nbconvert_exporter": "python",
   "pygments_lexer": "ipython3",
   "version": "3.7.12"
  },
  "papermill": {
   "default_parameters": {},
   "duration": 13.10394,
   "end_time": "2022-09-25T15:22:16.378161",
   "environment_variables": {},
   "exception": null,
   "input_path": "__notebook__.ipynb",
   "output_path": "__notebook__.ipynb",
   "parameters": {},
   "start_time": "2022-09-25T15:22:03.274221",
   "version": "2.3.4"
  }
 },
 "nbformat": 4,
 "nbformat_minor": 5
}
